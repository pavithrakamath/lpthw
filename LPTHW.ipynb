{
 "cells": [
  {
   "cell_type": "code",
   "execution_count": 1,
   "id": "586f8921-0ce7-46de-8565-ddcad19acd4e",
   "metadata": {},
   "outputs": [
    {
     "name": "stdout",
     "output_type": "stream",
     "text": [
      "Hello Worl\n",
      "This is good\n"
     ]
    }
   ],
   "source": [
    "print(\"Hello Worl\")\n",
    "print(\"This is good\")"
   ]
  },
  {
   "cell_type": "code",
   "execution_count": 6,
   "id": "d6fb8cc5-227e-4520-93f8-44e55c0890dc",
   "metadata": {},
   "outputs": [
    {
     "name": "stdout",
     "output_type": "stream",
     "text": [
      "I could have code like this.\n",
      "This will run.\n"
     ]
    }
   ],
   "source": [
    "# A comment, this is so you can read your program later.\n",
    "# Anything after the # is ignored by python.\n",
    "print(\"I could have code like this.\") # and the comment after is ignored\n",
    "# You can also use a comment to \"disable\" or comment out code:\n",
    "# print(\"This won't run.\")\n",
    "print(\"This will run.\")"
   ]
  },
  {
   "cell_type": "code",
   "execution_count": 7,
   "id": "15b67ff7-7553-4346-9c59-33e4d0262d55",
   "metadata": {},
   "outputs": [
    {
     "name": "stdout",
     "output_type": "stream",
     "text": [
      "We have 4 to carpool today.\n"
     ]
    }
   ],
   "source": [
    "passengers=4\n",
    "print(\"We have\", passengers, \"to carpool today.\")"
   ]
  },
  {
   "cell_type": "markdown",
   "id": "efab03e1-68d5-4c5f-a830-d5c9cc06f9d7",
   "metadata": {},
   "source": [
    "# Formatting Strings"
   ]
  },
  {
   "cell_type": "code",
   "execution_count": 8,
   "id": "276f9121-3ed8-46ef-841b-7bc3fba49fd0",
   "metadata": {},
   "outputs": [
    {
     "name": "stdout",
     "output_type": "stream",
     "text": [
      "We have 4 to carpool today\n"
     ]
    }
   ],
   "source": [
    "print(f\"We have {passengers} to carpool today\")"
   ]
  },
  {
   "cell_type": "code",
   "execution_count": 13,
   "id": "99f28791-8dd9-4e2b-b04e-9ba2265fef36",
   "metadata": {},
   "outputs": [
    {
     "name": "stdout",
     "output_type": "stream",
     "text": [
      "Isn't this joke funny now? No\n"
     ]
    }
   ],
   "source": [
    "#Different ways of formatted strings\n",
    "\n",
    "hilarious=\"No\"\n",
    "x=f\"Isn't this joke funny now? {hilarious}\"\n",
    "\n",
    "print(x)"
   ]
  },
  {
   "cell_type": "code",
   "execution_count": 15,
   "id": "72af040d-8ea9-4d6f-8f45-044cc6be576d",
   "metadata": {},
   "outputs": [
    {
     "name": "stdout",
     "output_type": "stream",
     "text": [
      "Isn't that joke so funny?! False\n",
      "Isn't that joke so funny?! True\n"
     ]
    }
   ],
   "source": [
    "#Another way of formatting string.\n",
    "joke_evaluation = \"Isn't that joke so funny?! {}\"\n",
    "hilarious = False\n",
    "print(joke_evaluation.format(hilarious))\n",
    "updateHilarious = True\n",
    "print(joke_evaluation.format(updateHilarious))"
   ]
  },
  {
   "cell_type": "markdown",
   "id": "e5e54614-4015-40c8-acae-3ddf55b76e84",
   "metadata": {
    "editable": true,
    "slideshow": {
     "slide_type": ""
    },
    "tags": []
   },
   "source": [
    "# Combining Strings"
   ]
  },
  {
   "cell_type": "code",
   "execution_count": 16,
   "id": "e52fc783-907d-4d08-95dd-82f4f97c2820",
   "metadata": {},
   "outputs": [
    {
     "name": "stdout",
     "output_type": "stream",
     "text": [
      "Mary had a little lamb\n",
      "..........\n"
     ]
    }
   ],
   "source": [
    "print(\"Mary had a little lamb\")\n",
    "print('.'* 10)"
   ]
  },
  {
   "cell_type": "code",
   "execution_count": 22,
   "id": "988a646c-bb72-4111-b883-dfc82454c1a1",
   "metadata": {},
   "outputs": [
    {
     "name": "stdout",
     "output_type": "stream",
     "text": [
      "and everywhere that Mary went\n",
      "The lamb was sure to go\n"
     ]
    }
   ],
   "source": [
    "next=\"and everywhere that Mary went\\n\"\n",
    "next+=\"The lamb was sure to go\"\n",
    "print(next)"
   ]
  },
  {
   "cell_type": "code",
   "execution_count": 31,
   "id": "737dc585-8719-4ae9-be6f-a26009897994",
   "metadata": {
    "editable": true,
    "slideshow": {
     "slide_type": ""
    },
    "tags": []
   },
   "outputs": [
    {
     "name": "stdout",
     "output_type": "stream",
     "text": [
      "1 2 3 4\n",
      "{} {} {} {} {} {} {} {} {} {} {} {} {} {} {} {}\n"
     ]
    }
   ],
   "source": [
    "formatter = \"{} {} {} {}\"\n",
    "print(formatter.format(1,2,3,4))\n",
    "print(formatter.format(formatter, formatter, formatter, formatter))"
   ]
  },
  {
   "cell_type": "code",
   "execution_count": 32,
   "id": "7f660316-ab2d-42de-8f8d-e48b477a369b",
   "metadata": {},
   "outputs": [
    {
     "name": "stdout",
     "output_type": "stream",
     "text": [
      "\n",
      "This is a \n",
      "multiline\n",
      "    proformatted\n",
      "String\n"
     ]
    }
   ],
   "source": [
    "#can ''' be used in place of \"\"\" to represent multiline string?\n",
    "multiline_string='''\n",
    "This is a \n",
    "multiline\n",
    "    proformatted\n",
    "String'''\n",
    "print(multiline_string)"
   ]
  },
  {
   "cell_type": "code",
   "execution_count": 34,
   "id": "0862b5f5-d757-4dcb-94f4-09233bfe42b2",
   "metadata": {},
   "outputs": [
    {
     "name": "stdout",
     "output_type": "stream",
     "text": [
      "\n",
      "This is a \n",
      "multiline\n",
      "    proformatted\n",
      "String'''\n"
     ]
    }
   ],
   "source": [
    "#can ''' be used in place of \"\"\" to represent multiline string?\n",
    "multiline_string=\"\"\"\n",
    "This is a \n",
    "multiline\n",
    "    proformatted\n",
    "String'''\"\"\"\n",
    "print(multiline_string)"
   ]
  },
  {
   "cell_type": "code",
   "execution_count": 46,
   "id": "6471e757-dd4f-4f06-b02b-7daf60b57788",
   "metadata": {},
   "outputs": [
    {
     "name": "stdout",
     "output_type": "stream",
     "text": [
      "Z 195 hello\n"
     ]
    }
   ],
   "source": [
    "print('\\132 195 hello')"
   ]
  },
  {
   "cell_type": "markdown",
   "id": "256f4c4a-d403-44d8-bd2f-d1e5176f33dd",
   "metadata": {},
   "source": [
    "# User input"
   ]
  },
  {
   "cell_type": "code",
   "execution_count": 47,
   "id": "b97e5cc8-c689-4133-afc8-5d5184db86d2",
   "metadata": {},
   "outputs": [
    {
     "name": "stdout",
     "output_type": "stream",
     "text": [
      "How old are you? "
     ]
    },
    {
     "name": "stdin",
     "output_type": "stream",
     "text": [
      " 3\n"
     ]
    },
    {
     "name": "stdout",
     "output_type": "stream",
     "text": [
      "oh! good you are 3 years old\n"
     ]
    }
   ],
   "source": [
    "print(\"How old are you?\", end=' ')\n",
    "age=input()\n",
    "print(f\"oh! good you are {age} years old\")"
   ]
  },
  {
   "cell_type": "code",
   "execution_count": 49,
   "id": "ae782747-f65f-43e1-b532-099a27f65128",
   "metadata": {},
   "outputs": [
    {
     "name": "stdin",
     "output_type": "stream",
     "text": [
      "How old are you? 6\n"
     ]
    },
    {
     "name": "stdout",
     "output_type": "stream",
     "text": [
      "oh! good you are 6 years old\n"
     ]
    }
   ],
   "source": [
    "#Alternatively in a single way\n",
    "age = input(\"How old are you?\")\n",
    "print(f\"oh! good you are {age} years old\")"
   ]
  },
  {
   "cell_type": "code",
   "execution_count": 58,
   "id": "de8107f9-d587-49f6-a3f9-3ed65051cab4",
   "metadata": {},
   "outputs": [
    {
     "name": "stdout",
     "output_type": "stream",
     "text": [
      "This is the script called ex13.py\n",
      "The first argument is 1\n",
      "The second argument is 2\n",
      "The third argument is 3\n",
      "The fourth argument is alpha\n"
     ]
    }
   ],
   "source": [
    "!poetry run python ex13.py 1 2 3 alpha"
   ]
  },
  {
   "cell_type": "markdown",
   "id": "0d363f61-c409-4ab7-bd1f-86833538fd95",
   "metadata": {},
   "source": [
    "# Reading from Files and writing to them"
   ]
  },
  {
   "cell_type": "code",
   "execution_count": 65,
   "id": "c4432f83-78c1-445c-aa2c-612b08ad9078",
   "metadata": {},
   "outputs": [
    {
     "name": "stdout",
     "output_type": "stream",
     "text": [
      "## Initial data in file is: \n",
      "\n",
      "This \n",
      "is \n",
      "a \n",
      "sample\n",
      "text\n",
      "\n",
      "## after opening file in write mode and update:  data is\n",
      "updated\n",
      "## after opening file in append mode and update: data is\n",
      "updated\n",
      "This \n",
      "is \n",
      "a \n",
      "sample\n",
      "text\n",
      "\n"
     ]
    }
   ],
   "source": [
    "filename=\"sample.txt\"\n",
    "data='''\n",
    "This \n",
    "is \n",
    "a \n",
    "sample\n",
    "text\n",
    "'''\n",
    "\n",
    "def printFileData(name:str):\n",
    "    with open(name, \"r\") as f:\n",
    "        print(f.read())\n",
    "\n",
    "\n",
    "with open(filename,\"w\") as sample:\n",
    "    sample.write(data)\n",
    "print(\"## Initial data in file is: \")\n",
    "printFileData(filename)\n",
    "\n",
    "with open(filename, \"w\") as f:\n",
    "    f.write(\"updated\")\n",
    "print(\"## after opening file in write mode and update:  data is\")\n",
    "printFileData(filename)\n",
    "\n",
    "with open(filename, \"a\") as f:\n",
    "    f.write(data)\n",
    "print(\"## after opening file in append mode and update: data is\")\n",
    "printFileData(filename)"
   ]
  },
  {
   "cell_type": "code",
   "execution_count": null,
   "id": "468577aa-74f4-48d9-b95f-d9470a71332e",
   "metadata": {},
   "outputs": [],
   "source": []
  }
 ],
 "metadata": {
  "kernelspec": {
   "display_name": "Python 3 (ipykernel)",
   "language": "python",
   "name": "python3"
  },
  "language_info": {
   "codemirror_mode": {
    "name": "ipython",
    "version": 3
   },
   "file_extension": ".py",
   "mimetype": "text/x-python",
   "name": "python",
   "nbconvert_exporter": "python",
   "pygments_lexer": "ipython3",
   "version": "3.13.5"
  }
 },
 "nbformat": 4,
 "nbformat_minor": 5
}
